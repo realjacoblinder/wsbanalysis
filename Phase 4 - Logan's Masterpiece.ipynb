{
 "cells": [
  {
   "cell_type": "code",
   "execution_count": 8,
   "metadata": {},
   "outputs": [],
   "source": [
    "#Import modules and read in positions file; keep only useful columns\n",
    "import json\n",
    "import pandas as pd\n",
    "from datetime import datetime, timedelta\n",
    "import time\n",
    "from yahoo_fin.stock_info import *\n",
    "\n",
    "ticker_file = pd.read_json('./final_output.json',encoding='utf8')\n",
    "ticker_file = ticker_file[['author','created_utc','regexed_combined']]"
   ]
  },
  {
   "cell_type": "code",
   "execution_count": 9,
   "metadata": {},
   "outputs": [],
   "source": [
    "#Filter out rows without positions or with 'NONE ticker'; parse position date string into a datetime obj\n",
    "ticker_file = ticker_file.loc[ticker_file['regexed_combined'] != 0]\n",
    "for posted_positions in ticker_file['regexed_combined']:\n",
    "    for position in posted_positions:\n",
    "        position[3] = datetime.strftime(datetime.fromtimestamp(float(position[3]/1000)), '%Y-%m-%d-%w')\n",
    "    \n",
    "ticker_file = ticker_file[ticker_file['regexed_combined'].str[0].str[0] != 'NONE']"
   ]
  },
  {
   "cell_type": "code",
   "execution_count": 10,
   "metadata": {},
   "outputs": [],
   "source": [
    "#parse created_utc into datetime object, replace column\n",
    "datetimes = []\n",
    "for timestamp in ticker_file['created_utc']:\n",
    "    datetimes.append(datetime.strftime(datetime.fromtimestamp(timestamp), '%Y-%m-%d-%w'))\n",
    "ticker_file['created'] = datetimes\n",
    "ticker_file = ticker_file.drop('created_utc','columns')"
   ]
  },
  {
   "cell_type": "code",
   "execution_count": 11,
   "metadata": {
    "scrolled": true
   },
   "outputs": [],
   "source": [
    "#Reset indexing\n",
    "t = ticker_file.copy()\n",
    "t = t.reset_index()"
   ]
  },
  {
   "cell_type": "code",
   "execution_count": 12,
   "metadata": {},
   "outputs": [],
   "source": [
    "#Determine which posts have multiple positions in a single post\n",
    "pos_num = []\n",
    "for i in t['regexed_combined']:\n",
    "    if len(i) > 1:\n",
    "        pos_num.append(len(i))\n",
    "    else: pos_num.append(1)\n",
    "#print(pos_num)\n",
    "total = 0\n",
    "for i in pos_num:\n",
    "    total += i\n",
    "\n",
    "#Expand nested lists into one comprehensive list of positions\n",
    "singularpositionlist = []\n",
    "for i in ticker_file['regexed_combined']:\n",
    "    if len(i) > 1:\n",
    "        for j in i:\n",
    "            singularpositionlist.append(j)\n",
    "    else: singularpositionlist.append(i[0])"
   ]
  },
  {
   "cell_type": "code",
   "execution_count": 13,
   "metadata": {},
   "outputs": [],
   "source": [
    "#Assign new df with polished open date and close date for 1 position per row\n",
    "#Adjust dates of posts created and expiry dates to only reflect trading days\n",
    "output = pd.DataFrame()\n",
    "open_price, close_price, authors = [],[],[]\n",
    "openday, closeday = 0,0\n",
    "i = 0\n",
    "\n",
    "#If post is made on weekend, use the previous day's price\n",
    "for dates in ticker_file['created']:\n",
    "    openday = datetime.strptime(dates,'%Y-%m-%d-%w')\n",
    "    if openday.weekday() == 5:\n",
    "        openday += timedelta(days=-1)\n",
    "    elif openday.weekday() == 6:\n",
    "        openday += timedelta(days=-2)\n",
    "\n",
    "#Extend open_date column to reflect multiple positions in one post by duplication\n",
    "    for j in range(pos_num[i]):\n",
    "        open_price.append(datetime.strftime(openday,'%Y-%m-%d'))\n",
    "    i+=1\n",
    "\n",
    "i=0\n",
    "for author in ticker_file['author']:\n",
    "    for j in range(pos_num[i]):\n",
    "        authors.append(author)\n",
    "    i+=1\n",
    "\n",
    "for position_list in ticker_file['regexed_combined']:\n",
    "    for position in position_list:\n",
    "        position[3] = datetime.strptime(position[3], '%Y-%m-%d-%w')\n",
    "        \n",
    "        #Error catching only\n",
    "        if position[3].weekday() == 5:\n",
    "            position[3] += timedelta(days=-1)\n",
    "        elif position[3].weekday() == 6:\n",
    "            position[3] += timedelta(days=-2)\n",
    "        \n",
    "        close_price.append(datetime.strftime(position[3],'%Y-%m-%d'))\n",
    "output['open_date'] = open_price\n",
    "output['close_date'] = close_price\n",
    "output['positions'] = singularpositionlist\n",
    "output['author'] = authors"
   ]
  },
  {
   "cell_type": "code",
   "execution_count": 14,
   "metadata": {},
   "outputs": [
    {
     "ename": "KeyboardInterrupt",
     "evalue": "",
     "output_type": "error",
     "traceback": [
      "\u001b[0;31m---------------------------------------------------------------------------\u001b[0m",
      "\u001b[0;31mKeyboardInterrupt\u001b[0m                         Traceback (most recent call last)",
      "\u001b[0;32m<ipython-input-14-49c2ad67cd59>\u001b[0m in \u001b[0;36m<module>\u001b[0;34m\u001b[0m\n\u001b[1;32m     42\u001b[0m         \u001b[0;32mexcept\u001b[0m\u001b[0;34m:\u001b[0m\u001b[0;34m\u001b[0m\u001b[0;34m\u001b[0m\u001b[0m\n\u001b[1;32m     43\u001b[0m             \u001b[0;32mbreak\u001b[0m\u001b[0;34m\u001b[0m\u001b[0;34m\u001b[0m\u001b[0m\n\u001b[0;32m---> 44\u001b[0;31m     \u001b[0mtime\u001b[0m\u001b[0;34m.\u001b[0m\u001b[0msleep\u001b[0m\u001b[0;34m(\u001b[0m\u001b[0;36m.5\u001b[0m\u001b[0;34m)\u001b[0m\u001b[0;34m\u001b[0m\u001b[0;34m\u001b[0m\u001b[0m\n\u001b[0m",
      "\u001b[0;31mKeyboardInterrupt\u001b[0m: "
     ]
    }
   ],
   "source": [
    "#Pull stock open and close prices for all positions\n",
    "#Store open in data1, close in data2\n",
    "data1 = pd.DataFrame()\n",
    "data2 = pd.DataFrame()\n",
    "temp = pd.DataFrame()\n",
    "ticker, start_date, end_date = '', '', ''\n",
    "\n",
    "for index, row in output.iterrows():\n",
    "    if row['positions'][0].startswith('$'):\n",
    "        ticker = row['positions'][0][1:]\n",
    "    else: ticker = row['positions'][0]\n",
    "    \n",
    "    start_date = datetime.strptime(row['open_date'],'%Y-%m-%d')\n",
    "    end_date = datetime.strptime(row['close_date'],'%Y-%m-%d')\n",
    "    \n",
    "    counter = 0\n",
    "    while (True):\n",
    "        try:\n",
    "            if counter > 3: break\n",
    "            counter+=1\n",
    "            temp = get_data(ticker,start_date=start_date,end_date=start_date+timedelta(days=1))\n",
    "            temp['outind'] = index\n",
    "            data1 = data1.append(temp)\n",
    "            break\n",
    "        except KeyError:\n",
    "            start_date += timedelta(days=-1)\n",
    "        except:\n",
    "            break\n",
    "    time.sleep(.5)\n",
    "    \n",
    "    counter = 0\n",
    "    while (True):\n",
    "        try:\n",
    "            if counter > 3: break\n",
    "            counter+=1\n",
    "            temp = get_data(ticker,start_date=end_date,end_date=end_date+timedelta(days=1))\n",
    "            temp['outind'] = index\n",
    "            data2 = data2.append(temp)\n",
    "            break\n",
    "        except KeyError:\n",
    "            end_date += timedelta(days=1)\n",
    "        except:\n",
    "            break\n",
    "    time.sleep(.5)"
   ]
  },
  {
   "cell_type": "code",
   "execution_count": null,
   "metadata": {},
   "outputs": [],
   "source": [
    "#Reset indices on open and close df, join to make a cohesive open/close price df\n",
    "data1 = data1.set_index('outind')\n",
    "data2 = data2.set_index('outind')\n",
    "data1 = data1.join(data2, lsuffix='_open', rsuffix-'_close')"
   ]
  },
  {
   "cell_type": "code",
   "execution_count": null,
   "metadata": {},
   "outputs": [],
   "source": [
    "#combine open/close prices with positions and dates, rename columns and drop duplicates\n",
    "combined = data1.join(output)\n",
    "combined = combined[['open_date','close_date','positions','ticker_open','open_open','close_close']]\n",
    "combined = combined.rename(columns={'ticker_open':'ticker','open_open':'open_price','close_close':'close_price'})\n",
    "combined = combined[~combined.index.duplicated(keep='first')]"
   ]
  },
  {
   "cell_type": "code",
   "execution_count": null,
   "metadata": {},
   "outputs": [],
   "source": [
    "#Calculate price delta over option lifetime, insert new column\n",
    "combined = combined.fillna(-1)\n",
    "price_delta = []\n",
    "for index, row in combined.iterrows():\n",
    "    if row['close_price'] > -1:\n",
    "        price_delta.append(row['close_price']-row['open_price'])\n",
    "    else:\n",
    "        price_delta.append(0)\n",
    "combined['price_delta'] = price_delta"
   ]
  },
  {
   "cell_type": "code",
   "execution_count": null,
   "metadata": {},
   "outputs": [],
   "source": [
    "#Determine sentiment over option lifetime, insert new column\n",
    "sentiment = []\n",
    "for index, row in combined.iterrows():\n",
    "    if row['positions'][2] == 'c' or row['positions'][2] == 'C':\n",
    "        if row['price_delta'] > 0:\n",
    "            sentiment.append('Correct')\n",
    "        elif row['price_delta'] < 0:\n",
    "            sentiment.append('Not Correct')\n",
    "        else:\n",
    "            sentiment.append('UNKNOWN')\n",
    "    else:\n",
    "        if row['price_delta'] < 0:\n",
    "            sentiment.append('Correct')\n",
    "        elif row['price_delta'] > 0:\n",
    "            sentiment.append('Not Correct')\n",
    "        else:\n",
    "            sentiment.append('UNKNOWN')\n",
    "combined['sentiment'] = sentiment"
   ]
  },
  {
   "cell_type": "code",
   "execution_count": null,
   "metadata": {},
   "outputs": [],
   "source": [
    "#Determine moneyness of option at expiry, add new column\n",
    "#Negative values are out of the money, positive are in the money\n",
    "moneyness = []\n",
    "for index, row in combined.iterrows():\n",
    "    if row['close_price'] == -1: moneyness.append(0)\n",
    "    else:\n",
    "        if row['positions'][2] == 'c' or row['positions'][2] == 'C':\n",
    "            moneyness.append(float(row['close_price'])-float(row['positions'][1]))\n",
    "        else:\n",
    "            moneyness.append(float(row['positions'][1])-float(row['close_price']))\n",
    "combined['moneyness'] = moneyness"
   ]
  },
  {
   "cell_type": "code",
   "execution_count": null,
   "metadata": {},
   "outputs": [],
   "source": [
    "#Clean up final version of yahoo_fin dataframe\n",
    "final_copy = combined.copy()\n",
    "final_copy = final_copy[['positions','ticker','open_date','open_price','close_date','close_price','price_delta','sentiment','moneyness']]\n",
    "final_copy = final_copy.dropna(subset=['open_price'])\n",
    "final_copy = final_copy.reset_index()\n",
    "final_copy = final_copy.drop('index','columns')"
   ]
  },
  {
   "cell_type": "code",
   "execution_count": null,
   "metadata": {},
   "outputs": [],
   "source": [
    "#Save final to csv\n",
    "f = open('yahoo_fin.csv','w',newline='')\n",
    "final_copy.to_csv(f)\n",
    "f.close()"
   ]
  },
  {
   "cell_type": "code",
   "execution_count": null,
   "metadata": {},
   "outputs": [],
   "source": []
  }
 ],
 "metadata": {
  "kernelspec": {
   "display_name": "Python 3",
   "language": "python",
   "name": "python3"
  },
  "language_info": {
   "codemirror_mode": {
    "name": "ipython",
    "version": 3
   },
   "file_extension": ".py",
   "mimetype": "text/x-python",
   "name": "python",
   "nbconvert_exporter": "python",
   "pygments_lexer": "ipython3",
   "version": "3.8.5"
  }
 },
 "nbformat": 4,
 "nbformat_minor": 4
}
