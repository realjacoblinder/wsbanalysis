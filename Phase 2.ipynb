{
 "cells": [
  {
   "cell_type": "code",
   "execution_count": 1,
   "metadata": {},
   "outputs": [],
   "source": [
    "import re\n",
    "def regex_pos(post_text):\n",
    "    x1 = re.findall('[A-Z]{1,4}\\s\\d{1,3}[cCpP]\\s\\d{1,2}/\\d{1,4}', post_text)\n",
    "    if x1: return x1\n",
    "    x2 = re.findall('[A-Z]{1,4}\\s\\d{1,2}\\/\\d{1,2}\\s\\d{1,3}[cCpP]', post_text)\n",
    "    if x2: return x2\n",
    "    \n",
    "    return []"
   ]
  },
  {
   "cell_type": "code",
   "execution_count": null,
   "metadata": {},
   "outputs": [],
   "source": [
    "import json"
   ]
  },
  {
   "cell_type": "code",
   "execution_count": 11,
   "metadata": {},
   "outputs": [
    {
     "name": "stdout",
     "output_type": "stream",
     "text": [
      "['SPY 300c 10/16']\n",
      "['SPY 295P 10/18']\n",
      "['ON 60c 01/17']\n",
      "['DIS 150c 1/17']\n",
      "['SPR 1/17 70P']\n",
      "['SPY 336c 1/27', 'XLY 128c 1/24']\n",
      "['TSLA 530C 01/24']\n",
      "['FDX 2/7 165c']\n",
      "['SPY 324c 2/10', 'SPCE 20c 1/15', 'NIO 10c 1/15', 'CRSP 55c 1/15', 'BA 310p 1/31', 'SPCE 25c 1/15']\n",
      "['MSFT 2/14 190c']\n",
      "['CVS 75C 2/14']\n",
      "['MSFT 205c 2/21', 'SPCE 24c 2/21']\n",
      "Total posts in JSON: 13268\n",
      "Posts with text: 13218\n",
      "Total positions found: 19\n",
      "Success rate (out of posts with with text): 0.14%\n"
     ]
    }
   ],
   "source": [
    "with open('Example Data - Testing/11.2.2020.15.45.21.json', 'r') as f:\n",
    "    posts = json.load(f)\n",
    "    numposts = 0\n",
    "    textposts = 0\n",
    "    positions = 0\n",
    "    for post in posts:\n",
    "        numposts += 1\n",
    "        if 'selftext' in post:\n",
    "            textposts += 1\n",
    "            tmp = regex_pos(post['selftext'])\n",
    "            if tmp:\n",
    "                positions += len(tmp)\n",
    "                print(tmp)\n",
    "    print('Total posts in JSON: {}'.format(numposts))\n",
    "    print('Posts with text: {}'.format(textposts))\n",
    "    print('Total positions found: {}'.format(positions))\n",
    "    print('Success rate (out of posts with with text): {}%'.format(round(positions/textposts * 100,2)))"
   ]
  },
  {
   "cell_type": "code",
   "execution_count": 13,
   "metadata": {},
   "outputs": [
    {
     "name": "stdout",
     "output_type": "stream",
     "text": [
      "['SPY 300c 10/16']\n",
      "['SPY 295P 10/18']\n",
      "['ON 60c 01/17']\n",
      "['DIS 150c 1/17']\n",
      "['SPR 1/17 70P']\n",
      "['SPY 336c 1/27', 'XLY 128c 1/24']\n",
      "['TSLA 530C 01/24']\n",
      "['FDX 2/7 165c']\n",
      "['SPY 324c 2/10', 'SPCE 20c 1/15', 'NIO 10c 1/15', 'CRSP 55c 1/15', 'BA 310p 1/31', 'SPCE 25c 1/15']\n",
      "['MSFT 2/14 190c']\n",
      "['CVS 75C 2/14']\n",
      "['MSFT 205c 2/21', 'SPCE 24c 2/21']\n",
      "Total posts in JSON: 13339\n",
      "Posts with text: 13289\n",
      "Total positions found: 19\n",
      "Success rate (out of posts with with text): 0.14%\n"
     ]
    }
   ],
   "source": [
    "with open('Example Data - Testing/11.2.2020.18.25.30.json', 'r') as f:\n",
    "    posts = json.load(f)\n",
    "    numposts = 0\n",
    "    textposts = 0\n",
    "    positions = 0\n",
    "    for post in posts:\n",
    "        numposts += 1\n",
    "        if 'selftext' in post:\n",
    "            textposts += 1\n",
    "            tmp = regex_pos(post['selftext'])\n",
    "            if tmp:\n",
    "                positions += len(tmp)\n",
    "                print(tmp)\n",
    "    print('Total posts in JSON: {}'.format(numposts))\n",
    "    print('Posts with text: {}'.format(textposts))\n",
    "    print('Total positions found: {}'.format(positions))\n",
    "    print('Success rate (out of posts with with text): {}%'.format(round(positions/textposts * 100,2)))"
   ]
  },
  {
   "cell_type": "code",
   "execution_count": null,
   "metadata": {},
   "outputs": [],
   "source": []
  }
 ],
 "metadata": {
  "kernelspec": {
   "display_name": "Python 3",
   "language": "python",
   "name": "python3"
  },
  "language_info": {
   "codemirror_mode": {
    "name": "ipython",
    "version": 3
   },
   "file_extension": ".py",
   "mimetype": "text/x-python",
   "name": "python",
   "nbconvert_exporter": "python",
   "pygments_lexer": "ipython3",
   "version": "3.8.3"
  }
 },
 "nbformat": 4,
 "nbformat_minor": 4
}
